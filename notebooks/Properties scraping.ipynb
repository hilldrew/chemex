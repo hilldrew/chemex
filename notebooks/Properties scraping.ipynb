{
 "cells": [
  {
   "cell_type": "code",
   "execution_count": 1,
   "metadata": {
    "collapsed": true
   },
   "outputs": [],
   "source": [
    "import sys\n",
    "sys.path.append('..')\n",
    "from chemex.web import cs_scrape_properties\n",
    "from itertools import islice\n",
    "import pandas as pd\n",
    "from pandas import DataFrame"
   ]
  },
  {
   "cell_type": "code",
   "execution_count": 76,
   "metadata": {
    "collapsed": false,
    "scrolled": false
   },
   "outputs": [],
   "source": [
    "csid = 4471\n",
    "one_data = cs_scrape_properties(csid)"
   ]
  },
  {
   "cell_type": "code",
   "execution_count": 77,
   "metadata": {
    "collapsed": false
   },
   "outputs": [
    {
     "data": {
      "text/plain": [
       "dict_keys(['Experimental Melting Point', 'Experimental LogP', 'Compound Source', 'More details', 'Bio Activity', 'Retention Index (Linear)', 'EPI Suite', 'Predicted Melting Point', 'Retention Index (Kovats)', 'Experimental Flash Point', 'Safety', 'Experimental Boiling Point', 'Experimental Gravity'])"
      ]
     },
     "execution_count": 77,
     "metadata": {},
     "output_type": "execute_result"
    }
   ],
   "source": [
    "one_data.keys()"
   ]
  },
  {
   "cell_type": "code",
   "execution_count": 8,
   "metadata": {
    "collapsed": false
   },
   "outputs": [],
   "source": [
    "props_of_interest = ['Experimental Melting Point',\n",
    "                     'Experimental Boiling Point',\n",
    "                     'Experimental Vapor Pressure',\n",
    "                     'Experimental Solubility',\n",
    "                     'Experimental LogP',\n",
    "                     'Experimental Vapor Pressure']"
   ]
  },
  {
   "cell_type": "code",
   "execution_count": 9,
   "metadata": {
    "collapsed": true
   },
   "outputs": [],
   "source": [
    "csid_list = [4471, 5889, 8677, 20939]"
   ]
  },
  {
   "cell_type": "code",
   "execution_count": 82,
   "metadata": {
    "collapsed": false
   },
   "outputs": [],
   "source": [
    "def cs_props_multi(csids, props=props_of_interest):\n",
    "    data = dict()\n",
    "    for csid in csids:\n",
    "        d = cs_scrape_properties(csid)\n",
    "        data[csid] = {k: v for (k, v) in d.items() if k in props}\n",
    "    return data"
   ]
  },
  {
   "cell_type": "code",
   "execution_count": 83,
   "metadata": {
    "collapsed": true
   },
   "outputs": [],
   "source": [
    "multi_data = cs_props_multi(csid_list)"
   ]
  },
  {
   "cell_type": "code",
   "execution_count": 84,
   "metadata": {
    "collapsed": false
   },
   "outputs": [
    {
     "data": {
      "text/html": [
       "<div>\n",
       "<table border=\"1\" class=\"dataframe\">\n",
       "  <thead>\n",
       "    <tr style=\"text-align: right;\">\n",
       "      <th></th>\n",
       "      <th>Experimental Boiling Point</th>\n",
       "      <th>Experimental LogP</th>\n",
       "      <th>Experimental Melting Point</th>\n",
       "      <th>Experimental Solubility</th>\n",
       "      <th>Experimental Vapor Pressure</th>\n",
       "    </tr>\n",
       "  </thead>\n",
       "  <tbody>\n",
       "    <tr>\n",
       "      <th>4471</th>\n",
       "      <td>[150 deg C / 5 mm (346.3046 °C / 760 mmHg)\\r\\n...</td>\n",
       "      <td>[3.641 Vitas-M STK057962, 2.9758 Synthon-Lab  ...</td>\n",
       "      <td>[63 °C TCI H0266, 62-65 °C Alfa Aesar, 64 °C J...</td>\n",
       "      <td>NaN</td>\n",
       "      <td>NaN</td>\n",
       "    </tr>\n",
       "    <tr>\n",
       "      <th>5889</th>\n",
       "      <td>[183-184 °C Alfa Aesar, 363 F (183.8889 °C)\\r\\...</td>\n",
       "      <td>[0.9 Egon Willighagen http://dx.doi.org/10.102...</td>\n",
       "      <td>[-6 °C Alfa Aesar, -6 °C Oxford University Che...</td>\n",
       "      <td>[4% NIOSH BW6650000, Soluble in water Alfa Aes...</td>\n",
       "      <td>[0.6 mmHg NIOSH BW6650000]</td>\n",
       "    </tr>\n",
       "    <tr>\n",
       "      <th>8677</th>\n",
       "      <td>NaN</td>\n",
       "      <td>NaN</td>\n",
       "      <td>[206 °C Alfa Aesar, 204-207 °C Oxford Universi...</td>\n",
       "      <td>NaN</td>\n",
       "      <td>NaN</td>\n",
       "    </tr>\n",
       "    <tr>\n",
       "      <th>20939</th>\n",
       "      <td>[170-180 °C Alfa Aesar, 175-177 °C Food and Ag...</td>\n",
       "      <td>NaN</td>\n",
       "      <td>[-40 °C LKT Labs  \\r\\n            [L3250], -74...</td>\n",
       "      <td>[Insoluble in water. LKT Labs  \\r\\n           ...</td>\n",
       "      <td>NaN</td>\n",
       "    </tr>\n",
       "  </tbody>\n",
       "</table>\n",
       "</div>"
      ],
      "text/plain": [
       "                              Experimental Boiling Point  \\\n",
       "4471   [150 deg C / 5 mm (346.3046 °C / 760 mmHg)\\r\\n...   \n",
       "5889   [183-184 °C Alfa Aesar, 363 F (183.8889 °C)\\r\\...   \n",
       "8677                                                 NaN   \n",
       "20939  [170-180 °C Alfa Aesar, 175-177 °C Food and Ag...   \n",
       "\n",
       "                                       Experimental LogP  \\\n",
       "4471   [3.641 Vitas-M STK057962, 2.9758 Synthon-Lab  ...   \n",
       "5889   [0.9 Egon Willighagen http://dx.doi.org/10.102...   \n",
       "8677                                                 NaN   \n",
       "20939                                                NaN   \n",
       "\n",
       "                              Experimental Melting Point  \\\n",
       "4471   [63 °C TCI H0266, 62-65 °C Alfa Aesar, 64 °C J...   \n",
       "5889   [-6 °C Alfa Aesar, -6 °C Oxford University Che...   \n",
       "8677   [206 °C Alfa Aesar, 204-207 °C Oxford Universi...   \n",
       "20939  [-40 °C LKT Labs  \\r\\n            [L3250], -74...   \n",
       "\n",
       "                                 Experimental Solubility  \\\n",
       "4471                                                 NaN   \n",
       "5889   [4% NIOSH BW6650000, Soluble in water Alfa Aes...   \n",
       "8677                                                 NaN   \n",
       "20939  [Insoluble in water. LKT Labs  \\r\\n           ...   \n",
       "\n",
       "      Experimental Vapor Pressure  \n",
       "4471                          NaN  \n",
       "5889   [0.6 mmHg NIOSH BW6650000]  \n",
       "8677                          NaN  \n",
       "20939                         NaN  "
      ]
     },
     "execution_count": 84,
     "metadata": {},
     "output_type": "execute_result"
    }
   ],
   "source": [
    "DataFrame(multi_data).transpose()"
   ]
  },
  {
   "cell_type": "code",
   "execution_count": 85,
   "metadata": {
    "collapsed": false,
    "scrolled": true
   },
   "outputs": [
    {
     "name": "stdout",
     "output_type": "stream",
     "text": [
      "\n",
      "\n",
      "Predicted data is generated using the US Environmental Protection Agency’s EPISuite\n",
      "\n",
      "                        \n",
      " Log Octanol-Water Partition Coef (SRC):\n",
      "    Log Kow (KOWWIN v1.67 estimate) =  3.52\n",
      "    Log Kow (Exper. database match) =  3.79\n",
      "       Exper. Ref:  Chem Inspect Test Inst (1992)\n",
      "\n",
      " Boiling Pt, Melting Pt, Vapor Pressure Estimations (MPBPWIN v1.42):\n",
      "    Boiling Pt (deg C):  363.41  (Adapted Stein & Brown method)\n",
      "    Melting Pt (deg C):  129.80  (Mean or Weighted MP)\n",
      "    VP(mm Hg,25 deg C):  6.62E-006  (Modified Grain method)\n",
      "    MP  (exp database):  65.5 deg C\n",
      "    BP  (exp database):  155 @ 5 mm Hg deg C\n",
      "    Subcooled liquid VP: 1.59E-005 mm Hg (25 deg C, Mod-Grain method)\n",
      "\n",
      " Water Solubility Estimate from Log Kow (WSKOW v1.41):\n",
      "    Water Solubility at 25 deg C (mg/L):  68.56\n",
      "       log Kow used: 3.79 (expkow database)\n",
      "       no-melting pt equation used\n",
      "\n",
      " Water Sol Estimate from Fragments:\n",
      "    Wat Sol (v1.01 est) =  2295.4 mg/L\n",
      "\n",
      " ECOSAR Class Program (ECOSAR v0.99h):\n",
      "    Class(es) found:\n",
      "       Phenols\n",
      "\n",
      " Henrys Law Constant (25 deg C) [HENRYWIN v3.10]:\n",
      "   Bond Method :   1.50E-008  atm-m3/mole\n",
      "   Group Method:   Incomplete\n",
      " Henrys LC [VP/WSol estimate using EPI values]:  2.900E-008 atm-m3/mole\n",
      "\n",
      " Log Octanol-Air Partition Coefficient (25 deg C) [KOAWIN v1.10]:\n",
      "  Log Kow used:  3.79  (exp database)\n",
      "  Log Kaw used:  -6.212  (HenryWin est)\n",
      "      Log Koa (KOAWIN v1.10 estimate):  10.002\n",
      "      Log Koa (experimental database):  None\n",
      "\n",
      " Probability of Rapid Biodegradation (BIOWIN v4.10):\n",
      "   Biowin1 (Linear Model)         :   1.0215\n",
      "   Biowin2 (Non-Linear Model)     :   0.9862\n",
      " Expert Survey Biodegradation Results:\n",
      "   Biowin3 (Ultimate Survey Model):   2.6926  (weeks-months)\n",
      "   Biowin4 (Primary Survey Model) :   3.6179  (days-weeks  )\n",
      " MITI Biodegradation Probability:\n",
      "   Biowin5 (MITI Linear Model)    :   0.4764\n",
      "   Biowin6 (MITI Non-Linear Model):   0.3921\n",
      " Anaerobic Biodegradation Probability:\n",
      "   Biowin7 (Anaerobic Linear Model):  0.0781\n",
      " Ready Biodegradability Prediction:   NO\n",
      "\n",
      "Hydrocarbon Biodegradation (BioHCwin v1.01):\n",
      "    Structure incompatible with current estimation method!\n",
      "\n",
      " Sorption to aerosols (25 Dec C)[AEROWIN v1.00]:\n",
      "  Vapor pressure (liquid/subcooled):  0.00212 Pa (1.59E-005 mm Hg)\n",
      "  Log Koa (Koawin est  ): 10.002\n",
      "   Kp (particle/gas partition coef. (m3/ug)):\n",
      "       Mackay model           :  0.00142 \n",
      "       Octanol/air (Koa) model:  0.00247 \n",
      "   Fraction sorbed to airborne particulates (phi):\n",
      "       Junge-Pankow model     :  0.0486 \n",
      "       Mackay model           :  0.102 \n",
      "       Octanol/air (Koa) model:  0.165 \n",
      "\n",
      " Atmospheric Oxidation (25 deg C) [AopWin v1.92]:\n",
      "   Hydroxyl Radicals Reaction:\n",
      "      OVERALL OH Rate Constant = 200.9696 E-12 cm3/molecule-sec\n",
      "      Half-Life =     0.053 Days (12-hr day; 1.5E6 OH/cm3)\n",
      "      Half-Life =     0.639 Hrs\n",
      "   Ozone Reaction:\n",
      "      No Ozone Reaction Estimation\n",
      "   Reaction With Nitrate Radicals May Be Important!\n",
      "   Fraction sorbed to airborne particulates (phi): 0.0752 (Junge,Mackay)\n",
      "    Note: the sorbed fraction may be resistant to atmospheric oxidation\n",
      "\n",
      " Soil Adsorption Coefficient (PCKOCWIN v1.66):\n",
      "      Koc    :  1268\n",
      "      Log Koc:  3.103 \n",
      "\n",
      " Aqueous Base/Acid-Catalyzed Hydrolysis (25 deg C) [HYDROWIN v1.67]:\n",
      "    Rate constants can NOT be estimated for this structure!\n",
      "\n",
      " Bioaccumulation Estimates from Log Kow (BCFWIN v2.17):\n",
      "   Log BCF from regression-based method = 1.378 (BCF = 23.89)\n",
      "       log Kow used: 3.79 (expkow database)\n",
      "\n",
      " Volatilization from Water:\n",
      "    Henry LC:  1.5E-008 atm-m3/mole  (estimated by Bond SAR Method)\n",
      "    Half-Life from Model River: 5.897E+004  hours   (2457 days)\n",
      "    Half-Life from Model Lake : 6.434E+005  hours   (2.681E+004 days)\n",
      "\n",
      " Removal In Wastewater Treatment:\n",
      "    Total removal:              21.47  percent\n",
      "    Total biodegradation:        0.25  percent\n",
      "    Total sludge adsorption:    21.22  percent\n",
      "    Total to Air:                0.00  percent\n",
      "      (using 10000 hr Bio P,A,S)\n",
      "\n",
      " Level III Fugacity Model:\n",
      "           Mass Amount    Half-Life    Emissions\n",
      "            (percent)        (hr)       (kg/hr)\n",
      "   Air       0.037           1.28         1000       \n",
      "   Water     15.4            900          1000       \n",
      "   Soil      82.3            1.8e+003     1000       \n",
      "   Sediment  2.22            8.1e+003     0          \n",
      "     Persistence Time: 1.26e+003 hr\n",
      "\n",
      "\n",
      "\n",
      "\n",
      "                    \n",
      "\n"
     ]
    }
   ],
   "source": [
    "for x in one_data['EPI Suite'].split('\\n'):\n",
    "    print(x)"
   ]
  },
  {
   "cell_type": "code",
   "execution_count": 138,
   "metadata": {
    "collapsed": false
   },
   "outputs": [
    {
     "name": "stdout",
     "output_type": "stream",
     "text": [
      "Henrys LC [VP/WSol estimate using EPI values]: 2.900E-008 atm-m3/mole\n",
      "Log BCF from regression-based method: 1.378 (BCF = 23.89)\n",
      "Log Koa (KOAWIN v1.10 estimate): 10.002\n",
      "Log Koa (experimental database): None\n",
      "Log Kow (Exper. database match): 3.79\n",
      "Log Kow (KOWWIN v1.67 estimate): 3.52\n",
      "Persistence Time: 1.26e+003 hr\n",
      "Ready Biodegradability Prediction: NO\n"
     ]
    }
   ],
   "source": [
    "def dict_from_line(txt, sep=':'):\n",
    "    d = [s.strip() for s in txt.split(sep, 1)]\n",
    "    return {d[0]: d[1]}\n",
    "\n",
    "def epi_suite_values(epi_str):\n",
    "    data = dict()\n",
    "    lines = epi_str.split('\\n')\n",
    "    for i in lines:\n",
    "        j = i.strip()\n",
    "        if j.startswith('Log Kow (') or j.startswith('Log BCF'):\n",
    "            data.update(dict_from_line(i, '='))\n",
    "        if j.startswith('Henrys LC') or\\\n",
    "            j.startswith('Log Koa (KOAWIN') or\\\n",
    "            j.startswith('Log Koa (experimental') or\\\n",
    "            j.startswith('Persistence Time') or\\\n",
    "            j.startswith('Ready Biodegradability Prediction'):\n",
    "            data.update(dict_from_line(i))\n",
    "    return data\n",
    "\n",
    "d = epi_suite_values(one_data['EPI Suite'])\n",
    "for x in sorted(d.keys()):\n",
    "    print(x, d[x], sep=': ')"
   ]
  }
 ],
 "metadata": {
  "kernelspec": {
   "display_name": "Python 3",
   "language": "python",
   "name": "python3"
  },
  "language_info": {
   "codemirror_mode": {
    "name": "ipython",
    "version": 3
   },
   "file_extension": ".py",
   "mimetype": "text/x-python",
   "name": "python",
   "nbconvert_exporter": "python",
   "pygments_lexer": "ipython3",
   "version": "3.4.3"
  }
 },
 "nbformat": 4,
 "nbformat_minor": 0
}
