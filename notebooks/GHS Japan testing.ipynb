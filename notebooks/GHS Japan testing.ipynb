{
 "cells": [
  {
   "cell_type": "code",
   "execution_count": 1,
   "metadata": {
    "collapsed": false
   },
   "outputs": [],
   "source": [
    "import os\n",
    "import sys\n",
    "import glob\n",
    "sys.path.append('..')\n",
    "sys.path.append('../scripts')\n",
    "import xlrd\n",
    "import pandas as pd\n",
    "from pandas import DataFrame, Series\n",
    "\n",
    "from ghs import hazard_classes\n",
    "import ghs_jp\n",
    "from ghs_jp import jp_haz_keywords, jp_haz_classes"
   ]
  },
  {
   "cell_type": "code",
   "execution_count": 2,
   "metadata": {
    "collapsed": false
   },
   "outputs": [],
   "source": [
    "chms = ghs_jp.extract()"
   ]
  },
  {
   "cell_type": "code",
   "execution_count": 3,
   "metadata": {
    "collapsed": false
   },
   "outputs": [
    {
     "data": {
      "text/html": [
       "<div>\n",
       "<table border=\"1\" class=\"dataframe\">\n",
       "  <thead>\n",
       "    <tr style=\"text-align: right;\">\n",
       "      <th></th>\n",
       "      <th>CML_INPUT_ID</th>\n",
       "      <th>casrns</th>\n",
       "      <th>classifications</th>\n",
       "      <th>jp_ID</th>\n",
       "      <th>name</th>\n",
       "    </tr>\n",
       "  </thead>\n",
       "  <tbody>\n",
       "    <tr>\n",
       "      <th>998-40-3</th>\n",
       "      <td>998-40-3</td>\n",
       "      <td>[998-40-3]</td>\n",
       "      <td>{'flamm_liq': {'date_classified': 'FY2009', 'h...</td>\n",
       "      <td>21A3656</td>\n",
       "      <td>Tributylphosphine</td>\n",
       "    </tr>\n",
       "    <tr>\n",
       "      <th>999-61-1</th>\n",
       "      <td>999-61-1</td>\n",
       "      <td>[999-61-1]</td>\n",
       "      <td>{'flamm_liq': {'date_classified': 'FY2006', 'h...</td>\n",
       "      <td>631</td>\n",
       "      <td>2-hydroxypropyl acrylate</td>\n",
       "    </tr>\n",
       "    <tr>\n",
       "      <th>999-81-5</th>\n",
       "      <td>999-81-5</td>\n",
       "      <td>[999-81-5]</td>\n",
       "      <td>{'flamm_liq': {'date_classified': 'FY2006', 'h...</td>\n",
       "      <td>1174</td>\n",
       "      <td>Ethanaminium, 2-chloro-N,N,N-trimethyl-</td>\n",
       "    </tr>\n",
       "    <tr>\n",
       "      <th>999-97-3</th>\n",
       "      <td>999-97-3</td>\n",
       "      <td>[999-97-3]</td>\n",
       "      <td>{'flamm_liq': {'date_classified': 'FY2012', 'h...</td>\n",
       "      <td>24A6122</td>\n",
       "      <td>Hexamethyldisilazane</td>\n",
       "    </tr>\n",
       "    <tr>\n",
       "      <th>99Mixtone}</th>\n",
       "      <td>99Mixtone}</td>\n",
       "      <td>[99Mixtone}]</td>\n",
       "      <td>{'flamm_liq': {'date_classified': 'FY2007', 'h...</td>\n",
       "      <td>99</td>\n",
       "      <td>Mixture of 1,3,5-tris(3-aminomethylphenyl)-1,3...</td>\n",
       "    </tr>\n",
       "  </tbody>\n",
       "</table>\n",
       "</div>"
      ],
      "text/plain": [
       "           CML_INPUT_ID        casrns  \\\n",
       "998-40-3       998-40-3    [998-40-3]   \n",
       "999-61-1       999-61-1    [999-61-1]   \n",
       "999-81-5       999-81-5    [999-81-5]   \n",
       "999-97-3       999-97-3    [999-97-3]   \n",
       "99Mixtone}   99Mixtone}  [99Mixtone}]   \n",
       "\n",
       "                                              classifications    jp_ID  \\\n",
       "998-40-3    {'flamm_liq': {'date_classified': 'FY2009', 'h...  21A3656   \n",
       "999-61-1    {'flamm_liq': {'date_classified': 'FY2006', 'h...      631   \n",
       "999-81-5    {'flamm_liq': {'date_classified': 'FY2006', 'h...     1174   \n",
       "999-97-3    {'flamm_liq': {'date_classified': 'FY2012', 'h...  24A6122   \n",
       "99Mixtone}  {'flamm_liq': {'date_classified': 'FY2007', 'h...       99   \n",
       "\n",
       "                                                         name  \n",
       "998-40-3                                    Tributylphosphine  \n",
       "999-61-1                             2-hydroxypropyl acrylate  \n",
       "999-81-5              Ethanaminium, 2-chloro-N,N,N-trimethyl-  \n",
       "999-97-3                                 Hexamethyldisilazane  \n",
       "99Mixtone}  Mixture of 1,3,5-tris(3-aminomethylphenyl)-1,3...  "
      ]
     },
     "execution_count": 3,
     "metadata": {},
     "output_type": "execute_result"
    }
   ],
   "source": [
    "df1 = DataFrame(chms).transpose()\n",
    "df1.tail()"
   ]
  },
  {
   "cell_type": "code",
   "execution_count": 4,
   "metadata": {
    "collapsed": false
   },
   "outputs": [],
   "source": [
    "# Make a hazard-specific classification list for all chemicals in dataset.\n",
    "# for h in sorted(hazard_keywords.keys()):\n",
    "h = 'ozone'\n",
    "haz_list = []\n",
    "for c in chms.keys():\n",
    "    if h not in chms[c]['classifications']:\n",
    "        continue\n",
    "    d = {k: chms[c][k] for k in chms[c].keys() \\\n",
    "         if k != 'classifications'}\n",
    "    d['casrns'] = ', '.join(d['casrns'])\n",
    "    d.update(chms[c]['classifications'][h])\n",
    "    d['classification'] = jp_haz_classes[h] + ' - ' \\\n",
    "                          + d['classification']\n",
    "    haz_list.append(d)"
   ]
  },
  {
   "cell_type": "code",
   "execution_count": 5,
   "metadata": {
    "collapsed": false
   },
   "outputs": [
    {
     "data": {
      "text/html": [
       "<div>\n",
       "<table border=\"1\" class=\"dataframe\">\n",
       "  <thead>\n",
       "    <tr style=\"text-align: right;\">\n",
       "      <th></th>\n",
       "      <th>casrns</th>\n",
       "      <th>name</th>\n",
       "      <th>classification</th>\n",
       "      <th>hazard_statement</th>\n",
       "      <th>symbol</th>\n",
       "      <th>signal_word</th>\n",
       "      <th>rationale</th>\n",
       "      <th>country_code</th>\n",
       "      <th>jp_ID</th>\n",
       "      <th>date_classified</th>\n",
       "      <th>date_imported</th>\n",
       "      <th>source_filename</th>\n",
       "    </tr>\n",
       "    <tr>\n",
       "      <th>CML_INPUT_ID</th>\n",
       "      <th></th>\n",
       "      <th></th>\n",
       "      <th></th>\n",
       "      <th></th>\n",
       "      <th></th>\n",
       "      <th></th>\n",
       "      <th></th>\n",
       "      <th></th>\n",
       "      <th></th>\n",
       "      <th></th>\n",
       "      <th></th>\n",
       "      <th></th>\n",
       "    </tr>\n",
       "  </thead>\n",
       "  <tbody>\n",
       "    <tr>\n",
       "      <th>95-83-0</th>\n",
       "      <td>95-83-0</td>\n",
       "      <td>4-chloro-o-phenylenediamine</td>\n",
       "      <td>Hazardous to the ozone layer - Classification ...</td>\n",
       "      <td></td>\n",
       "      <td></td>\n",
       "      <td></td>\n",
       "      <td></td>\n",
       "      <td>jp</td>\n",
       "      <td>708</td>\n",
       "      <td>FY2010</td>\n",
       "      <td>Sun Sep 20 16:33:06 2015</td>\n",
       "      <td>h22_mhlw_rev_e.xls</td>\n",
       "    </tr>\n",
       "    <tr>\n",
       "      <th>51-21-8</th>\n",
       "      <td>51-21-8</td>\n",
       "      <td>5-Fluorouracil</td>\n",
       "      <td>Hazardous to the ozone layer - Classification ...</td>\n",
       "      <td></td>\n",
       "      <td></td>\n",
       "      <td></td>\n",
       "      <td></td>\n",
       "      <td>jp</td>\n",
       "      <td>22A4093</td>\n",
       "      <td>FY2010</td>\n",
       "      <td>Sun Sep 20 16:33:04 2015</td>\n",
       "      <td>h22_mhlw_new_e.xls</td>\n",
       "    </tr>\n",
       "    <tr>\n",
       "      <th>634-66-2</th>\n",
       "      <td>634-66-2</td>\n",
       "      <td>1,2,3,4-Tetrachlorobenzene</td>\n",
       "      <td>Hazardous to the ozone layer - Classification ...</td>\n",
       "      <td></td>\n",
       "      <td></td>\n",
       "      <td></td>\n",
       "      <td></td>\n",
       "      <td>jp</td>\n",
       "      <td>24A6117</td>\n",
       "      <td>FY2012</td>\n",
       "      <td>Sun Sep 20 16:33:05 2015</td>\n",
       "      <td>h24_mhlw_new_e.xls</td>\n",
       "    </tr>\n",
       "    <tr>\n",
       "      <th>111-71-7</th>\n",
       "      <td>111-71-7</td>\n",
       "      <td>Heptanal</td>\n",
       "      <td>Hazardous to the ozone layer - Classification ...</td>\n",
       "      <td></td>\n",
       "      <td></td>\n",
       "      <td></td>\n",
       "      <td></td>\n",
       "      <td>jp</td>\n",
       "      <td>23A5021</td>\n",
       "      <td>FY2011</td>\n",
       "      <td>Sun Sep 20 16:33:05 2015</td>\n",
       "      <td>h23_mhlw_new_e.xls</td>\n",
       "    </tr>\n",
       "    <tr>\n",
       "      <th>110-25-8</th>\n",
       "      <td>110-25-8</td>\n",
       "      <td>Oleoylsarcosine</td>\n",
       "      <td>Hazardous to the ozone layer - Classification ...</td>\n",
       "      <td></td>\n",
       "      <td></td>\n",
       "      <td></td>\n",
       "      <td></td>\n",
       "      <td>jp</td>\n",
       "      <td>25A0091</td>\n",
       "      <td>FY2013</td>\n",
       "      <td>Sun Sep 20 16:33:05 2015</td>\n",
       "      <td>h25_mhlw_new_e.xls</td>\n",
       "    </tr>\n",
       "  </tbody>\n",
       "</table>\n",
       "</div>"
      ],
      "text/plain": [
       "                casrns                         name  \\\n",
       "CML_INPUT_ID                                          \n",
       "95-83-0        95-83-0  4-chloro-o-phenylenediamine   \n",
       "51-21-8        51-21-8               5-Fluorouracil   \n",
       "634-66-2      634-66-2   1,2,3,4-Tetrachlorobenzene   \n",
       "111-71-7      111-71-7                     Heptanal   \n",
       "110-25-8      110-25-8              Oleoylsarcosine   \n",
       "\n",
       "                                                 classification  \\\n",
       "CML_INPUT_ID                                                      \n",
       "95-83-0       Hazardous to the ozone layer - Classification ...   \n",
       "51-21-8       Hazardous to the ozone layer - Classification ...   \n",
       "634-66-2      Hazardous to the ozone layer - Classification ...   \n",
       "111-71-7      Hazardous to the ozone layer - Classification ...   \n",
       "110-25-8      Hazardous to the ozone layer - Classification ...   \n",
       "\n",
       "             hazard_statement symbol signal_word rationale country_code  \\\n",
       "CML_INPUT_ID                                                              \n",
       "95-83-0                                                              jp   \n",
       "51-21-8                                                              jp   \n",
       "634-66-2                                                             jp   \n",
       "111-71-7                                                             jp   \n",
       "110-25-8                                                             jp   \n",
       "\n",
       "                jp_ID date_classified             date_imported  \\\n",
       "CML_INPUT_ID                                                      \n",
       "95-83-0           708          FY2010  Sun Sep 20 16:33:06 2015   \n",
       "51-21-8       22A4093          FY2010  Sun Sep 20 16:33:04 2015   \n",
       "634-66-2      24A6117          FY2012  Sun Sep 20 16:33:05 2015   \n",
       "111-71-7      23A5021          FY2011  Sun Sep 20 16:33:05 2015   \n",
       "110-25-8      25A0091          FY2013  Sun Sep 20 16:33:05 2015   \n",
       "\n",
       "                 source_filename  \n",
       "CML_INPUT_ID                      \n",
       "95-83-0       h22_mhlw_rev_e.xls  \n",
       "51-21-8       h22_mhlw_new_e.xls  \n",
       "634-66-2      h24_mhlw_new_e.xls  \n",
       "111-71-7      h23_mhlw_new_e.xls  \n",
       "110-25-8      h25_mhlw_new_e.xls  "
      ]
     },
     "execution_count": 5,
     "metadata": {},
     "output_type": "execute_result"
    }
   ],
   "source": [
    "df2 = DataFrame(haz_list, columns=ghs_jp.xl_cols).set_index('CML_INPUT_ID')\n",
    "df2.head()"
   ]
  },
  {
   "cell_type": "code",
   "execution_count": 6,
   "metadata": {
    "collapsed": false
   },
   "outputs": [
    {
     "data": {
      "text/plain": [
       "Hazardous to the ozone layer - Classification not possible    858\n",
       "Hazardous to the ozone layer - Category 1                       3\n",
       "dtype: int64"
      ]
     },
     "execution_count": 6,
     "metadata": {},
     "output_type": "execute_result"
    }
   ],
   "source": [
    "df2.classification.value_counts()"
   ]
  },
  {
   "cell_type": "code",
   "execution_count": 7,
   "metadata": {
    "collapsed": false
   },
   "outputs": [
    {
     "name": "stdout",
     "output_type": "stream",
     "text": [
      "/Users/akokai/code/chemex/data/ghs/jp/new/h21_mhlw_new_e.xls\n",
      "['Classification not possible', ' - ', ' - ', ' - ', 'No data available.']\n"
     ]
    }
   ],
   "source": [
    "f = os.path.join(ghs_jp.JP_DATA_NEW_PATH, 'h21_mhlw_new_e.xls')\n",
    "print(f)\n",
    "book = xlrd.open_workbook(f)\n",
    "sh = book.sheet_by_name('21A3673')\n",
    "print(sh.row_values(45, 3, 8))"
   ]
  },
  {
   "cell_type": "code",
   "execution_count": 8,
   "metadata": {
    "collapsed": false
   },
   "outputs": [],
   "source": [
    "nrows = []\n",
    "\n",
    "new_search = os.path.join(ghs_jp.JP_DATA_NEW_PATH, '*.xl*')\n",
    "new_files = glob.glob(new_search)\n",
    "\n",
    "for f in new_files:\n",
    "    book = xlrd.open_workbook(f)\n",
    "    for i in range(1, book.nsheets): # Ignore the first sheet.\n",
    "        sh = book.sheet_by_index(i)\n",
    "        nrows.append(sh.nrows)"
   ]
  },
  {
   "cell_type": "code",
   "execution_count": 9,
   "metadata": {
    "collapsed": false
   },
   "outputs": [
    {
     "data": {
      "text/plain": [
       "46    1998\n",
       "47     873\n",
       "dtype: int64"
      ]
     },
     "execution_count": 9,
     "metadata": {},
     "output_type": "execute_result"
    }
   ],
   "source": [
    "pd.Series(nrows).value_counts()"
   ]
  },
  {
   "cell_type": "code",
   "execution_count": null,
   "metadata": {
    "collapsed": true
   },
   "outputs": [],
   "source": []
  }
 ],
 "metadata": {
  "kernelspec": {
   "display_name": "Python 3",
   "language": "python",
   "name": "python3"
  },
  "language_info": {
   "codemirror_mode": {
    "name": "ipython",
    "version": 3
   },
   "file_extension": ".py",
   "mimetype": "text/x-python",
   "name": "python",
   "nbconvert_exporter": "python",
   "pygments_lexer": "ipython3",
   "version": "3.4.3"
  }
 },
 "nbformat": 4,
 "nbformat_minor": 0
}
