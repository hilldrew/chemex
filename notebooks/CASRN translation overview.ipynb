{
 "cells": [
  {
   "cell_type": "markdown",
   "metadata": {},
   "source": [
    "# Translating CASRNs to InChI and/or PubChem CID\n",
    "\n",
    "Although nobody in the open data world really cares about CASRNs, they are an industry standard, and in particular environmental chemical information is very often indexed to them. Example: [US EPA ACToR database](http://actor.epa.gov/actor/faces/ACToRHome.jsp).\n",
    "\n",
    "This notebook will distill what I've learned from trying to use the following resources to do CASRN → structure or open identifier translation:\n",
    "\n",
    "* [PubChem PUG REST API](https://pubchem.ncbi.nlm.nih.gov/pug_rest/PUG_REST.html). There is a way to look up compounds by CASRN, in the compound domain namespace `xref/RN`.\n",
    "* [PubChem Identifier Exchange Web Service](https://pubchem.ncbi.nlm.nih.gov/idexchange) (which I am calling \"IXS\" for short). Tis is a web form, not an API.\n",
    "* [NLM Chemical Identifier Resolver](http://cactus.nci.nih.gov/chemical/structure) (CIR). This can give you StdInChI/Key directly, without looking up CID (in fact it doesn't give you CID at all).\n",
    "\n",
    "These resources only have approximate correspondences between CASRN and other IDs. As a result, conversions are sloppy and there are lots of misalignments that need to be corrected by further inspection of the results.\n",
    "\n",
    "The CIR is not very reliable at CASRN → InChI conversions in my experience. They also probably ultimately get their data from PubChem, both being National Library of Medicine projects.\n",
    "\n",
    "I have not made a systematic comparison between the PubChem PUG and IXS services, but I have generated a dataset that can be used to make such a comparison (below). Using PUG for repeated lookups of many CASRNs is slow and inefficient.\n",
    "\n",
    "\n",
    "## My conclusions, at least for now\n",
    "* The PubChem IXS is the easiest way to make a sloppy conversion of many identifiers at once. It is faster and easier than using the web APIs (which are more prone to connection errors).\n",
    "* The work of aligning CASRNs with other IDs is impossible without some human input, and also requires knowing some more details about what the chemicals in question are (i.e., names and/or structures).\n",
    "    - To this end, I've shifted my efforts to developing a tool to help us do that quickly."
   ]
  },
  {
   "cell_type": "markdown",
   "metadata": {},
   "source": [
    "Imports and stuff:"
   ]
  },
  {
   "cell_type": "code",
   "execution_count": 1,
   "metadata": {
    "collapsed": false
   },
   "outputs": [],
   "source": [
    "from __future__ import unicode_literals, print_function\n",
    "import sys\n",
    "sys.path.append('..')\n",
    "\n",
    "import numpy as np\n",
    "import pandas as pd\n",
    "from pandas import DataFrame, Series\n",
    "import requests\n",
    "from chemex.casrn import validate"
   ]
  },
  {
   "cell_type": "markdown",
   "metadata": {},
   "source": [
    "## Using PubChem services to convert a list of CASRNs to CIDs\n",
    "\n",
    "I wanted to see how the PUG REST API lookup in the `xref/RN` namespace compares to the results of the automated IXS, which interprets CASRN as _synonyms_. \n",
    "\n",
    "Note: Synonyms, including CASRNs, are deposited in an uncontrolled and uncurated manner for each compound in PubChem. They do not constitute a namespace for the PubChem API, but PubChem maintains a cross-reference of CIDs and all their synonyms ([huge file, FTP](ftp://ftp.ncbi.nlm.nih.gov/pubchem/Compound/Extras/CID-Synonym-filtered.gz)). Instead of diving right into that huge file, I tried a smaller experiment.\n",
    "\n",
    "So... Here's what I did. \n",
    "* I took the CASRN column of the [Calfiornia Proposition 65 List](http://oehha.ca.gov/prop65/prop65_list/newlist.html) (an outdated version now, it doesn't matter) and cleaned it, dropping duplicates and fixing bad CASRN strings, etc.\n",
    "    - pickled DataFrame: `../data/p65.pickle`\n",
    "    - CASRN only: `../data/p65_CASRN.csv`.\n",
    "* Used this plain list of CASRN to generate a corresponding list of PubChem CIDs using\n",
    "    - the PUG REST API → `../data/p65_CASRN_CID_api.csv`\n",
    "    - the IXS → `../data/p65_CASRN_CID_ixs.txt`.\n",
    "\n",
    "For each step that generates significant output, the code below includes statements to write files in `../results/`. When I ran this I saved a copy of each file in `../data/` so you can look there if you want to see. \n",
    "\n",
    "*Also: Unicode errors with pandas to_csv? Try it in Python 3...*"
   ]
  },
  {
   "cell_type": "code",
   "execution_count": 2,
   "metadata": {
    "collapsed": false
   },
   "outputs": [
    {
     "name": "stdout",
     "output_type": "stream",
     "text": [
      "715\n"
     ]
    },
    {
     "data": {
      "text/html": [
       "<div style=\"max-height:1000px;max-width:1500px;overflow:auto;\">\n",
       "<table border=\"1\" class=\"dataframe\">\n",
       "  <thead>\n",
       "    <tr style=\"text-align: right;\">\n",
       "      <th></th>\n",
       "      <th>ChemName</th>\n",
       "      <th>CASRN</th>\n",
       "    </tr>\n",
       "  </thead>\n",
       "  <tbody>\n",
       "    <tr>\n",
       "      <th>176</th>\n",
       "      <td>1-Chloro-4-nitrobenzene</td>\n",
       "      <td>100-00-5</td>\n",
       "    </tr>\n",
       "    <tr>\n",
       "      <th>344</th>\n",
       "      <td>p-Dinitrobenzene</td>\n",
       "      <td>100-25-4</td>\n",
       "    </tr>\n",
       "    <tr>\n",
       "      <th>921</th>\n",
       "      <td>4-Vinylcyclohexene</td>\n",
       "      <td>100-40-3</td>\n",
       "    </tr>\n",
       "    <tr>\n",
       "      <th>397</th>\n",
       "      <td>Ethylbenzene</td>\n",
       "      <td>100-41-4</td>\n",
       "    </tr>\n",
       "    <tr>\n",
       "      <th>89</th>\n",
       "      <td>Benzyl chloride</td>\n",
       "      <td>100-44-7</td>\n",
       "    </tr>\n",
       "  </tbody>\n",
       "</table>\n",
       "</div>"
      ],
      "text/plain": [
       "                    ChemName     CASRN\n",
       "176  1-Chloro-4-nitrobenzene  100-00-5\n",
       "344         p-Dinitrobenzene  100-25-4\n",
       "921       4-Vinylcyclohexene  100-40-3\n",
       "397             Ethylbenzene  100-41-4\n",
       "89           Benzyl chloride  100-44-7"
      ]
     },
     "execution_count": 2,
     "metadata": {},
     "output_type": "execute_result"
    }
   ],
   "source": [
    "xls_file = pd.ExcelFile('../data/P65list040414.xls')\n",
    "df = xls_file.parse('Sheet1', skiprows=13, skip_footer=6, na_values=['--', '---', ' ---', '  ---'], \n",
    "                    names=['ChemName', 'Toxicity', 'ListMech', 'CASRN', 'DateListed', 'NSRL_MADL'])\n",
    "p65 = df.loc[:,['ChemName', 'CASRN']]\n",
    "p65 = p65[p65.CASRN.notnull()].sort(columns='CASRN')\n",
    "p65['CASRN'] = p65['CASRN'].apply(validate)\n",
    "p65.dropna(inplace=True)\n",
    "p65.drop_duplicates(subset='CASRN', inplace=True, take_last=True)\n",
    "print(len(p65))\n",
    "p65.head()"
   ]
  },
  {
   "cell_type": "code",
   "execution_count": null,
   "metadata": {
    "collapsed": false
   },
   "outputs": [],
   "source": [
    "# Previous results are saved in ../data/p65.pickle\n",
    "p65.to_pickle('../results/p65.pickle')"
   ]
  },
  {
   "cell_type": "code",
   "execution_count": null,
   "metadata": {
    "collapsed": true
   },
   "outputs": [],
   "source": [
    "# Previous results are saved in ../data/p65_CASRN.csv\n",
    "p65['CASRN'].to_csv('../results/p65_CASRN.csv', index=False)"
   ]
  },
  {
   "cell_type": "markdown",
   "metadata": {},
   "source": [
    "### PubChem Identifier Exchange Web Service (\"IXS\")\n",
    "\n",
    "I used IXS to convert that list (715 lines) to CIDs and saved the output to `../data/p65_CASRN_CID_ixs.txt` (979 lines) \n",
    "\n",
    "I used the following settings:\n",
    "\n",
    "* Input ID type: Synonym \n",
    "* Operator type: Same CID\n",
    "* Output type: CID\n",
    "* Output method: Two column file showing each input-output correspondence\n",
    "* Compression: no compression"
   ]
  },
  {
   "cell_type": "code",
   "execution_count": 3,
   "metadata": {
    "collapsed": false
   },
   "outputs": [
    {
     "name": "stdout",
     "output_type": "stream",
     "text": [
      "979\n"
     ]
    },
    {
     "data": {
      "text/html": [
       "<div style=\"max-height:1000px;max-width:1500px;overflow:auto;\">\n",
       "<table border=\"1\" class=\"dataframe\">\n",
       "  <thead>\n",
       "    <tr style=\"text-align: right;\">\n",
       "      <th></th>\n",
       "      <th>CASRN</th>\n",
       "      <th>CID_ixs</th>\n",
       "    </tr>\n",
       "  </thead>\n",
       "  <tbody>\n",
       "    <tr>\n",
       "      <th>0</th>\n",
       "      <td>100-00-5</td>\n",
       "      <td>7474</td>\n",
       "    </tr>\n",
       "    <tr>\n",
       "      <th>1</th>\n",
       "      <td>100-25-4</td>\n",
       "      <td>7492</td>\n",
       "    </tr>\n",
       "    <tr>\n",
       "      <th>2</th>\n",
       "      <td>100-40-3</td>\n",
       "      <td>7499</td>\n",
       "    </tr>\n",
       "    <tr>\n",
       "      <th>3</th>\n",
       "      <td>100-41-4</td>\n",
       "      <td>7500</td>\n",
       "    </tr>\n",
       "    <tr>\n",
       "      <th>4</th>\n",
       "      <td>100-44-7</td>\n",
       "      <td>7503</td>\n",
       "    </tr>\n",
       "  </tbody>\n",
       "</table>\n",
       "</div>"
      ],
      "text/plain": [
       "      CASRN  CID_ixs\n",
       "0  100-00-5     7474\n",
       "1  100-25-4     7492\n",
       "2  100-40-3     7499\n",
       "3  100-41-4     7500\n",
       "4  100-44-7     7503"
      ]
     },
     "execution_count": 3,
     "metadata": {},
     "output_type": "execute_result"
    }
   ],
   "source": [
    "p65_cids_ixs = pd.read_table('../data/p65_CASRN_CID_ixs.txt', index_col=None, names=['CASRN', 'CID_ixs'])\n",
    "print(len(p65_cids_ixs))\n",
    "p65_cids_ixs.head()"
   ]
  },
  {
   "cell_type": "markdown",
   "metadata": {},
   "source": [
    "There are one-to-many relationships between CASRNs and CIDs. For example, \"10418-03-8\" is a synonym for four PubChem compounds:"
   ]
  },
  {
   "cell_type": "code",
   "execution_count": 4,
   "metadata": {
    "collapsed": false,
    "scrolled": true
   },
   "outputs": [
    {
     "data": {
      "text/html": [
       "<div style=\"max-height:1000px;max-width:1500px;overflow:auto;\">\n",
       "<table border=\"1\" class=\"dataframe\">\n",
       "  <thead>\n",
       "    <tr style=\"text-align: right;\">\n",
       "      <th></th>\n",
       "      <th>CASRN</th>\n",
       "      <th>CID_ixs</th>\n",
       "    </tr>\n",
       "  </thead>\n",
       "  <tbody>\n",
       "    <tr>\n",
       "      <th>21</th>\n",
       "      <td>10418-03-8</td>\n",
       "      <td>25249</td>\n",
       "    </tr>\n",
       "    <tr>\n",
       "      <th>22</th>\n",
       "      <td>10418-03-8</td>\n",
       "      <td>5277</td>\n",
       "    </tr>\n",
       "    <tr>\n",
       "      <th>23</th>\n",
       "      <td>10418-03-8</td>\n",
       "      <td>44629810</td>\n",
       "    </tr>\n",
       "    <tr>\n",
       "      <th>24</th>\n",
       "      <td>10418-03-8</td>\n",
       "      <td>12866474</td>\n",
       "    </tr>\n",
       "  </tbody>\n",
       "</table>\n",
       "</div>"
      ],
      "text/plain": [
       "         CASRN   CID_ixs\n",
       "21  10418-03-8     25249\n",
       "22  10418-03-8      5277\n",
       "23  10418-03-8  44629810\n",
       "24  10418-03-8  12866474"
      ]
     },
     "execution_count": 4,
     "metadata": {},
     "output_type": "execute_result"
    }
   ],
   "source": [
    "p65_cids_ixs[p65_cids_ixs.CASRN == '10418-03-8']"
   ]
  },
  {
   "cell_type": "markdown",
   "metadata": {},
   "source": [
    "See below (*Comparing results*) for more on the degree of one-to-many-ness..."
   ]
  },
  {
   "cell_type": "markdown",
   "metadata": {},
   "source": [
    "### PUG REST API\n",
    "It's possible to generate a comparable dataset by using the PubChem API directly. However, it takes *much* more time and effort. The following code shows how I did this."
   ]
  },
  {
   "cell_type": "code",
   "execution_count": 5,
   "metadata": {
    "collapsed": true
   },
   "outputs": [],
   "source": [
    "import os\n",
    "from time import sleep\n",
    "\n",
    "pc_default_props = 'IUPACName,MolecularFormula,InChIKey'\n",
    "\n",
    "def pc_get_cid_properties(data, properties=pc_default_props, verbose=False):\n",
    "\n",
    "    while data['CID']:\n",
    "        cid = data['CID']\n",
    "        try:\n",
    "            r = requests.get('http://pubchem.ncbi.nlm.nih.gov/rest/pug/compound/CID/{0}/property/{1}/JSON'\n",
    "                             .format(cid, properties)).json()\n",
    "        except ConnectionError as e:\n",
    "            if verbose:\n",
    "                print('Connection error while requesting properties for CID {0}: {1}'.format(cid, e))\n",
    "                print('Trying again...')\n",
    "            sleep(15)\n",
    "            continue\n",
    "        else:\n",
    "            data.update(r['PropertyTable']['Properties'][0])\n",
    "            break\n",
    "\n",
    "    return data\n",
    "\n",
    "\n",
    "def pc_casrn_cid_lookup(casrn, properties=pc_default_props, verbose=False):\n",
    "    \n",
    "    casrn = validate(casrn)\n",
    "    if verbose:\n",
    "        print(casrn)\n",
    "    \n",
    "    results = []\n",
    "\n",
    "    # CASRN-to-CIDs lookup using PubChem API.\n",
    "    while True:\n",
    "        try:\n",
    "            r = requests.get('http://pubchem.ncbi.nlm.nih.gov/rest/pug/compound/xref/RN/{0}/JSON'\n",
    "                             .format(casrn)).json()\n",
    "        except ConnectionError as e:\n",
    "            if verbose:\n",
    "                print('Connection error while requesting CIDs for CASRN {0}: {1}'.format(casrn, e))\n",
    "                print('Trying again...')\n",
    "            sleep(15)\n",
    "            continue\n",
    "        else:\n",
    "            break\n",
    "\n",
    "    # Wait before making the next API call -- not sure if this is necessary.\n",
    "    sleep(0.1)\n",
    "    \n",
    "    # Add all CIDs (if any) to the results & look up additional properties.\n",
    "    try:\n",
    "        cpds = r['PC_Compounds']\n",
    "    except KeyError as e:\n",
    "        if verbose:\n",
    "            print('No data for CASRN {0}: {1}'.format(casrn, e))\n",
    "        results.append({'CASRN': casrn})\n",
    "    else:\n",
    "        for c in cpds:\n",
    "            data = {'CASRN': casrn, 'CID': c['id']['id']['cid']}\n",
    "            # Retrieve the desired properties, if any.\n",
    "            if properties:\n",
    "                data = pc_get_cid_properties(data, verbose=verbose)\n",
    "            results.append(data)\n",
    "    \n",
    "    return results\n",
    "\n",
    "\n",
    "## I think this could be done in a more sophisitcated way with a class.\n",
    "\n",
    "def pc_casrn_chunks(df, name, startk=0, endk=False, k=50, col='CASRN',\n",
    "                    properties=pc_default_props, verbose=False, d=30):\n",
    "\n",
    "    totl = len(df[col])\n",
    "    nchunks = int(np.ceil(totl/k))\n",
    "    stopk = endk or nchunks\n",
    "    if verbose:\n",
    "        print('Name:', name)\n",
    "        print('Total: {0} CASRN, {1} chunks. Retrieving chunks {2} to {3}'\n",
    "              .format(totl, nchunks, startk, stopk - 1))\n",
    "\n",
    "    chunks_dict = {n: '../temp/{0}_{1}.pkl'.format(name, n) for n in range(startk, stopk)}\n",
    "    \n",
    "    for n in range(startk, stopk):\n",
    "        # Skips chunks that have already been retrieved.\n",
    "        if os.path.exists(chunks_dict[n]):\n",
    "            if verbose:\n",
    "                print('Already have chunk {0}: {1}'.format(n, chunks_dict[n]))\n",
    "            continue\n",
    "\n",
    "        results = []\n",
    "        # Establish the start & end elements of this chunk.\n",
    "        i, j = n * k, np.minimum(((n + 1) * k), totl)\n",
    "        if verbose:\n",
    "            print('Getting chunk {0}, rows {1} to {2}'.format(n, i, j))\n",
    "        # Request the data\n",
    "        for c in df[col][i:j]:\n",
    "            data = pc_casrn_cid_lookup(c, properties=properties, verbose=verbose)\n",
    "            for x in data:\n",
    "                results.append(x)\n",
    "        \n",
    "        # Store data before next call\n",
    "        new_df = DataFrame(results)\n",
    "        \n",
    "        # After every request pickle the dataframe\n",
    "        new_df.to_pickle(chunks_dict[n])\n",
    "        \n",
    "        # Print status\n",
    "        if verbose:\n",
    "            print('Retrieved chunk {0}: {1}'.format(n, chunks_dict[n]))\n",
    "        \n",
    "        # Wait before the next loop (default 30 s)\n",
    "        if n < stopk - 1:\n",
    "            sleep(d)\n",
    "\n",
    "    if verbose:\n",
    "        print('Done.')\n",
    "\n",
    "    return chunks_dict\n",
    "\n",
    "\n",
    "def combine_chunks(chunks_dict):\n",
    "    \n",
    "    frames = []\n",
    "    \n",
    "    for i in chunks_dict.keys():\n",
    "        df = pd.read_pickle(chunks_dict[i])\n",
    "        frames.append(df)\n",
    "\n",
    "    return pd.concat(frames).reset_index().drop('index', axis=1)"
   ]
  },
  {
   "cell_type": "markdown",
   "metadata": {},
   "source": [
    "Here are some short tests:"
   ]
  },
  {
   "cell_type": "code",
   "execution_count": 6,
   "metadata": {
    "collapsed": false
   },
   "outputs": [
    {
     "name": "stdout",
     "output_type": "stream",
     "text": [
      "100-44-7\n"
     ]
    },
    {
     "data": {
      "text/plain": [
       "[{'CASRN': '100-44-7',\n",
       "  'CID': 7503,\n",
       "  'IUPACName': 'chloromethylbenzene',\n",
       "  'InChIKey': 'KCXMKQUNVWSEMD-UHFFFAOYSA-N',\n",
       "  'MolecularFormula': 'C7H7Cl'},\n",
       " {'CASRN': '100-44-7',\n",
       "  'CID': 272643,\n",
       "  'IUPACName': '2,2-bis(4-methylphenyl)cyclopropane-1-carboxylic acid',\n",
       "  'InChIKey': 'MPFKAXRDUNPKDV-UHFFFAOYSA-N',\n",
       "  'MolecularFormula': 'C18H18O2'}]"
      ]
     },
     "execution_count": 6,
     "metadata": {},
     "output_type": "execute_result"
    }
   ],
   "source": [
    "pc_casrn_cid_lookup('100-44-7', verbose=True)"
   ]
  },
  {
   "cell_type": "code",
   "execution_count": 7,
   "metadata": {
    "collapsed": false
   },
   "outputs": [
    {
     "name": "stdout",
     "output_type": "stream",
     "text": [
      "10418-03-8\n"
     ]
    },
    {
     "data": {
      "text/html": [
       "<div style=\"max-height:1000px;max-width:1500px;overflow:auto;\">\n",
       "<table border=\"1\" class=\"dataframe\">\n",
       "  <thead>\n",
       "    <tr style=\"text-align: right;\">\n",
       "      <th></th>\n",
       "      <th>CASRN</th>\n",
       "      <th>CID</th>\n",
       "      <th>IUPACName</th>\n",
       "      <th>InChIKey</th>\n",
       "      <th>MolecularFormula</th>\n",
       "    </tr>\n",
       "  </thead>\n",
       "  <tbody>\n",
       "    <tr>\n",
       "      <th>0</th>\n",
       "      <td>10418-03-8</td>\n",
       "      <td>5277</td>\n",
       "      <td>NaN</td>\n",
       "      <td>LKAJKIOFIWVMDJ-UHFFFAOYSA-N</td>\n",
       "      <td>C21H32N2O</td>\n",
       "    </tr>\n",
       "    <tr>\n",
       "      <th>1</th>\n",
       "      <td>10418-03-8</td>\n",
       "      <td>25249</td>\n",
       "      <td>NaN</td>\n",
       "      <td>LKAJKIOFIWVMDJ-IYRCEVNGSA-N</td>\n",
       "      <td>C21H32N2O</td>\n",
       "    </tr>\n",
       "    <tr>\n",
       "      <th>2</th>\n",
       "      <td>10418-03-8</td>\n",
       "      <td>237730</td>\n",
       "      <td>propan-2-yl 4-(3-chloropropanoylamino)benzoate</td>\n",
       "      <td>FYSWBTKTCGJURE-UHFFFAOYSA-N</td>\n",
       "      <td>C13H16ClNO3</td>\n",
       "    </tr>\n",
       "    <tr>\n",
       "      <th>3</th>\n",
       "      <td>10418-03-8</td>\n",
       "      <td>12866474</td>\n",
       "      <td>NaN</td>\n",
       "      <td>LKAJKIOFIWVMDJ-GVQHXQKQSA-N</td>\n",
       "      <td>C21H32N2O</td>\n",
       "    </tr>\n",
       "    <tr>\n",
       "      <th>4</th>\n",
       "      <td>10418-03-8</td>\n",
       "      <td>44629810</td>\n",
       "      <td>NaN</td>\n",
       "      <td>LKAJKIOFIWVMDJ-OLPJAUBDSA-N</td>\n",
       "      <td>C21H32N2O</td>\n",
       "    </tr>\n",
       "  </tbody>\n",
       "</table>\n",
       "</div>"
      ],
      "text/plain": [
       "        CASRN       CID                                       IUPACName  \\\n",
       "0  10418-03-8      5277                                             NaN   \n",
       "1  10418-03-8     25249                                             NaN   \n",
       "2  10418-03-8    237730  propan-2-yl 4-(3-chloropropanoylamino)benzoate   \n",
       "3  10418-03-8  12866474                                             NaN   \n",
       "4  10418-03-8  44629810                                             NaN   \n",
       "\n",
       "                      InChIKey MolecularFormula  \n",
       "0  LKAJKIOFIWVMDJ-UHFFFAOYSA-N        C21H32N2O  \n",
       "1  LKAJKIOFIWVMDJ-IYRCEVNGSA-N        C21H32N2O  \n",
       "2  FYSWBTKTCGJURE-UHFFFAOYSA-N      C13H16ClNO3  \n",
       "3  LKAJKIOFIWVMDJ-GVQHXQKQSA-N        C21H32N2O  \n",
       "4  LKAJKIOFIWVMDJ-OLPJAUBDSA-N        C21H32N2O  "
      ]
     },
     "execution_count": 7,
     "metadata": {},
     "output_type": "execute_result"
    }
   ],
   "source": [
    "DataFrame(pc_casrn_cid_lookup('10418-03-8', verbose=True))"
   ]
  },
  {
   "cell_type": "markdown",
   "metadata": {},
   "source": [
    "I needed to write the chunky function `pc_casrn_chunks` because making many API calls inevitably resulted in connection errors, and try as I may, I don't know a better way to deal with those. This is probably not the best implementation.\n",
    "\n",
    "**Running the following code will take a while!** And I already ran it: and the results are in `../data/p65_CASRN_CID_api.csv`."
   ]
  },
  {
   "cell_type": "code",
   "execution_count": null,
   "metadata": {
    "collapsed": true
   },
   "outputs": [],
   "source": [
    "p65_pickles = pc_casrn_chunks(p65, 'p65_pickle', verbose=True)"
   ]
  },
  {
   "cell_type": "code",
   "execution_count": null,
   "metadata": {
    "collapsed": true
   },
   "outputs": [],
   "source": [
    "p65_cids_api = combine_chunks(p65_pickles)"
   ]
  },
  {
   "cell_type": "code",
   "execution_count": null,
   "metadata": {
    "collapsed": true
   },
   "outputs": [],
   "source": [
    "# Previous results are saved in `../data/p65_CASRN_CID_api.csv`.\n",
    "p65_cids_api.to_csv('../results/p65_CASRN_CID_api.csv', index=False)"
   ]
  },
  {
   "cell_type": "markdown",
   "metadata": {},
   "source": [
    "### Results from PUG REST API lookups"
   ]
  },
  {
   "cell_type": "code",
   "execution_count": 8,
   "metadata": {
    "collapsed": false,
    "scrolled": true
   },
   "outputs": [
    {
     "name": "stdout",
     "output_type": "stream",
     "text": [
      "1895\n"
     ]
    },
    {
     "data": {
      "text/html": [
       "<div style=\"max-height:1000px;max-width:1500px;overflow:auto;\">\n",
       "<table border=\"1\" class=\"dataframe\">\n",
       "  <thead>\n",
       "    <tr style=\"text-align: right;\">\n",
       "      <th></th>\n",
       "      <th>CASRN</th>\n",
       "      <th>CID</th>\n",
       "      <th>IUPACName</th>\n",
       "      <th>InChIKey</th>\n",
       "      <th>MolecularFormula</th>\n",
       "    </tr>\n",
       "  </thead>\n",
       "  <tbody>\n",
       "    <tr>\n",
       "      <th>0</th>\n",
       "      <td>100-00-5</td>\n",
       "      <td>7474</td>\n",
       "      <td>1-chloro-4-nitrobenzene</td>\n",
       "      <td>CZGCEKJOLUNIFY-UHFFFAOYSA-N</td>\n",
       "      <td>C6H4ClNO2</td>\n",
       "    </tr>\n",
       "    <tr>\n",
       "      <th>1</th>\n",
       "      <td>100-00-5</td>\n",
       "      <td>101111</td>\n",
       "      <td>(2S)-2-[(3,5-dinitrobenzoyl)amino]-4-methylpen...</td>\n",
       "      <td>DIOBIOPCRMWGAT-NSHDSACASA-N</td>\n",
       "      <td>C13H15N3O7</td>\n",
       "    </tr>\n",
       "    <tr>\n",
       "      <th>2</th>\n",
       "      <td>100-25-4</td>\n",
       "      <td>7492</td>\n",
       "      <td>1,4-dinitrobenzene</td>\n",
       "      <td>FYFDQJRXFWGIBS-UHFFFAOYSA-N</td>\n",
       "      <td>C6H4N2O4</td>\n",
       "    </tr>\n",
       "    <tr>\n",
       "      <th>3</th>\n",
       "      <td>100-40-3</td>\n",
       "      <td>7499</td>\n",
       "      <td>4-ethenylcyclohexene</td>\n",
       "      <td>BBDKZWKEPDTENS-UHFFFAOYSA-N</td>\n",
       "      <td>C8H12</td>\n",
       "    </tr>\n",
       "    <tr>\n",
       "      <th>4</th>\n",
       "      <td>100-41-4</td>\n",
       "      <td>7500</td>\n",
       "      <td>ethylbenzene</td>\n",
       "      <td>YNQLUTRBYVCPMQ-UHFFFAOYSA-N</td>\n",
       "      <td>C8H10</td>\n",
       "    </tr>\n",
       "  </tbody>\n",
       "</table>\n",
       "</div>"
      ],
      "text/plain": [
       "      CASRN     CID                                          IUPACName  \\\n",
       "0  100-00-5    7474                            1-chloro-4-nitrobenzene   \n",
       "1  100-00-5  101111  (2S)-2-[(3,5-dinitrobenzoyl)amino]-4-methylpen...   \n",
       "2  100-25-4    7492                                 1,4-dinitrobenzene   \n",
       "3  100-40-3    7499                               4-ethenylcyclohexene   \n",
       "4  100-41-4    7500                                       ethylbenzene   \n",
       "\n",
       "                      InChIKey MolecularFormula  \n",
       "0  CZGCEKJOLUNIFY-UHFFFAOYSA-N        C6H4ClNO2  \n",
       "1  DIOBIOPCRMWGAT-NSHDSACASA-N       C13H15N3O7  \n",
       "2  FYFDQJRXFWGIBS-UHFFFAOYSA-N         C6H4N2O4  \n",
       "3  BBDKZWKEPDTENS-UHFFFAOYSA-N            C8H12  \n",
       "4  YNQLUTRBYVCPMQ-UHFFFAOYSA-N            C8H10  "
      ]
     },
     "execution_count": 8,
     "metadata": {},
     "output_type": "execute_result"
    }
   ],
   "source": [
    "p65_cids_api = pd.read_csv('../data/p65_CASRN_CID_api.csv')\n",
    "print(len(p65_cids_api))\n",
    "p65_cids_api.head()"
   ]
  },
  {
   "cell_type": "markdown",
   "metadata": {},
   "source": [
    "### Comparing results\n",
    "\n",
    "There are nearly twice as many results from using the PUG API as the IXS.\n",
    "\n",
    "We can also examine the degree to which there are multiple CIDs for each CASRN:"
   ]
  },
  {
   "cell_type": "code",
   "execution_count": 9,
   "metadata": {
    "collapsed": false
   },
   "outputs": [
    {
     "data": {
      "text/plain": [
       "count    694.000000\n",
       "mean       1.410663\n",
       "std        1.301548\n",
       "min        1.000000\n",
       "25%        1.000000\n",
       "50%        1.000000\n",
       "75%        1.000000\n",
       "max       13.000000\n",
       "dtype: float64"
      ]
     },
     "execution_count": 9,
     "metadata": {},
     "output_type": "execute_result"
    }
   ],
   "source": [
    "p65_cids_ixs.groupby('CASRN').apply(len).describe()"
   ]
  },
  {
   "cell_type": "code",
   "execution_count": 10,
   "metadata": {
    "collapsed": false
   },
   "outputs": [
    {
     "data": {
      "text/plain": [
       "count    715.000000\n",
       "mean       2.650350\n",
       "std        2.040414\n",
       "min        1.000000\n",
       "25%        1.000000\n",
       "50%        2.000000\n",
       "75%        3.000000\n",
       "max       13.000000\n",
       "dtype: float64"
      ]
     },
     "execution_count": 10,
     "metadata": {},
     "output_type": "execute_result"
    }
   ],
   "source": [
    "p65_cids_api[['CASRN', 'CID']].groupby('CASRN').apply(len).describe()"
   ]
  },
  {
   "cell_type": "markdown",
   "metadata": {},
   "source": [
    "Those numbers are the summary statistics for the number of CIDs associated with each CASRN. So, there are, **on average, more CIDs returned per CASRN from the API than from the IXS.** This probably means that the API search is less discriminating.\n",
    "\n",
    "The real question, though, is about the quality of these matches.\n",
    "\n",
    "\n",
    "## Can we use these data to establish firm CASRN-CID correspondences?\n",
    "\n",
    "Not sure yet. Note: If we could, then the validity of the original list of CASRNs (which came from California EPA) would also limit the validity of the correspondences. I'm reasonably confident in Cal/EPA's list, though.\n",
    "\n",
    "Well, here's a start, anyway: We can merge the two sets of results. If we also bring back the names of the chemicals that California EPA was identifying with each CASRN, then we can see for ourselves whether each correspondence makes sense."
   ]
  },
  {
   "cell_type": "code",
   "execution_count": 11,
   "metadata": {
    "collapsed": true
   },
   "outputs": [],
   "source": [
    "name_index = p65.set_index('CASRN')"
   ]
  },
  {
   "cell_type": "code",
   "execution_count": 13,
   "metadata": {
    "collapsed": false,
    "scrolled": true
   },
   "outputs": [
    {
     "name": "stdout",
     "output_type": "stream",
     "text": [
      "3839\n"
     ]
    },
    {
     "data": {
      "text/html": [
       "<div style=\"max-height:1000px;max-width:1500px;overflow:auto;\">\n",
       "<table border=\"1\" class=\"dataframe\">\n",
       "  <thead>\n",
       "    <tr style=\"text-align: right;\">\n",
       "      <th></th>\n",
       "      <th>CASRN</th>\n",
       "      <th>CID_ixs</th>\n",
       "      <th>CID</th>\n",
       "      <th>IUPACName</th>\n",
       "      <th>InChIKey</th>\n",
       "      <th>MolecularFormula</th>\n",
       "      <th>p65name</th>\n",
       "    </tr>\n",
       "  </thead>\n",
       "  <tbody>\n",
       "    <tr>\n",
       "      <th>0</th>\n",
       "      <td>100-00-5</td>\n",
       "      <td>7474</td>\n",
       "      <td>7474</td>\n",
       "      <td>1-chloro-4-nitrobenzene</td>\n",
       "      <td>CZGCEKJOLUNIFY-UHFFFAOYSA-N</td>\n",
       "      <td>C6H4ClNO2</td>\n",
       "      <td>1-Chloro-4-nitrobenzene</td>\n",
       "    </tr>\n",
       "    <tr>\n",
       "      <th>1</th>\n",
       "      <td>100-00-5</td>\n",
       "      <td>7474</td>\n",
       "      <td>101111</td>\n",
       "      <td>(2S)-2-[(3,5-dinitrobenzoyl)amino]-4-methylpen...</td>\n",
       "      <td>DIOBIOPCRMWGAT-NSHDSACASA-N</td>\n",
       "      <td>C13H15N3O7</td>\n",
       "      <td>1-Chloro-4-nitrobenzene</td>\n",
       "    </tr>\n",
       "    <tr>\n",
       "      <th>2</th>\n",
       "      <td>100-25-4</td>\n",
       "      <td>7492</td>\n",
       "      <td>7492</td>\n",
       "      <td>1,4-dinitrobenzene</td>\n",
       "      <td>FYFDQJRXFWGIBS-UHFFFAOYSA-N</td>\n",
       "      <td>C6H4N2O4</td>\n",
       "      <td>p-Dinitrobenzene</td>\n",
       "    </tr>\n",
       "    <tr>\n",
       "      <th>3</th>\n",
       "      <td>100-40-3</td>\n",
       "      <td>7499</td>\n",
       "      <td>7499</td>\n",
       "      <td>4-ethenylcyclohexene</td>\n",
       "      <td>BBDKZWKEPDTENS-UHFFFAOYSA-N</td>\n",
       "      <td>C8H12</td>\n",
       "      <td>4-Vinylcyclohexene</td>\n",
       "    </tr>\n",
       "    <tr>\n",
       "      <th>4</th>\n",
       "      <td>100-41-4</td>\n",
       "      <td>7500</td>\n",
       "      <td>7500</td>\n",
       "      <td>ethylbenzene</td>\n",
       "      <td>YNQLUTRBYVCPMQ-UHFFFAOYSA-N</td>\n",
       "      <td>C8H10</td>\n",
       "      <td>Ethylbenzene</td>\n",
       "    </tr>\n",
       "  </tbody>\n",
       "</table>\n",
       "</div>"
      ],
      "text/plain": [
       "      CASRN  CID_ixs     CID  \\\n",
       "0  100-00-5     7474    7474   \n",
       "1  100-00-5     7474  101111   \n",
       "2  100-25-4     7492    7492   \n",
       "3  100-40-3     7499    7499   \n",
       "4  100-41-4     7500    7500   \n",
       "\n",
       "                                           IUPACName  \\\n",
       "0                            1-chloro-4-nitrobenzene   \n",
       "1  (2S)-2-[(3,5-dinitrobenzoyl)amino]-4-methylpen...   \n",
       "2                                 1,4-dinitrobenzene   \n",
       "3                               4-ethenylcyclohexene   \n",
       "4                                       ethylbenzene   \n",
       "\n",
       "                      InChIKey MolecularFormula                  p65name  \n",
       "0  CZGCEKJOLUNIFY-UHFFFAOYSA-N        C6H4ClNO2  1-Chloro-4-nitrobenzene  \n",
       "1  DIOBIOPCRMWGAT-NSHDSACASA-N       C13H15N3O7  1-Chloro-4-nitrobenzene  \n",
       "2  FYFDQJRXFWGIBS-UHFFFAOYSA-N         C6H4N2O4         p-Dinitrobenzene  \n",
       "3  BBDKZWKEPDTENS-UHFFFAOYSA-N            C8H12       4-Vinylcyclohexene  \n",
       "4  YNQLUTRBYVCPMQ-UHFFFAOYSA-N            C8H10             Ethylbenzene  "
      ]
     },
     "execution_count": 13,
     "metadata": {},
     "output_type": "execute_result"
    }
   ],
   "source": [
    "merged = pd.merge(p65_cids_ixs, p65_cids_api, on='CASRN')\n",
    "merged['p65name'] = merged['CASRN'].apply(lambda x: name_index.ix[x, 'ChemName'])\n",
    "print(len(merged))\n",
    "merged.head()"
   ]
  },
  {
   "cell_type": "markdown",
   "metadata": {},
   "source": [
    "### Look for agreement between PUG- and IXS-returned CIDS\n",
    "\n",
    "We can simply eliminate everything where PUG API and the IXS gave us *different* CIDs. This doesn't mean that those other CIDs are wrong, or that these are right. But this gives me more confidence and seems like a common-sense approach. "
   ]
  },
  {
   "cell_type": "code",
   "execution_count": 14,
   "metadata": {
    "collapsed": false,
    "scrolled": true
   },
   "outputs": [
    {
     "name": "stdout",
     "output_type": "stream",
     "text": [
      "973\n"
     ]
    },
    {
     "data": {
      "text/html": [
       "<div style=\"max-height:1000px;max-width:1500px;overflow:auto;\">\n",
       "<table border=\"1\" class=\"dataframe\">\n",
       "  <thead>\n",
       "    <tr style=\"text-align: right;\">\n",
       "      <th></th>\n",
       "      <th>CASRN</th>\n",
       "      <th>CID_ixs</th>\n",
       "      <th>CID</th>\n",
       "      <th>IUPACName</th>\n",
       "      <th>InChIKey</th>\n",
       "      <th>MolecularFormula</th>\n",
       "      <th>p65name</th>\n",
       "    </tr>\n",
       "  </thead>\n",
       "  <tbody>\n",
       "    <tr>\n",
       "      <th>0</th>\n",
       "      <td>100-00-5</td>\n",
       "      <td>7474</td>\n",
       "      <td>7474</td>\n",
       "      <td>1-chloro-4-nitrobenzene</td>\n",
       "      <td>CZGCEKJOLUNIFY-UHFFFAOYSA-N</td>\n",
       "      <td>C6H4ClNO2</td>\n",
       "      <td>1-Chloro-4-nitrobenzene</td>\n",
       "    </tr>\n",
       "    <tr>\n",
       "      <th>2</th>\n",
       "      <td>100-25-4</td>\n",
       "      <td>7492</td>\n",
       "      <td>7492</td>\n",
       "      <td>1,4-dinitrobenzene</td>\n",
       "      <td>FYFDQJRXFWGIBS-UHFFFAOYSA-N</td>\n",
       "      <td>C6H4N2O4</td>\n",
       "      <td>p-Dinitrobenzene</td>\n",
       "    </tr>\n",
       "    <tr>\n",
       "      <th>3</th>\n",
       "      <td>100-40-3</td>\n",
       "      <td>7499</td>\n",
       "      <td>7499</td>\n",
       "      <td>4-ethenylcyclohexene</td>\n",
       "      <td>BBDKZWKEPDTENS-UHFFFAOYSA-N</td>\n",
       "      <td>C8H12</td>\n",
       "      <td>4-Vinylcyclohexene</td>\n",
       "    </tr>\n",
       "    <tr>\n",
       "      <th>4</th>\n",
       "      <td>100-41-4</td>\n",
       "      <td>7500</td>\n",
       "      <td>7500</td>\n",
       "      <td>ethylbenzene</td>\n",
       "      <td>YNQLUTRBYVCPMQ-UHFFFAOYSA-N</td>\n",
       "      <td>C8H10</td>\n",
       "      <td>Ethylbenzene</td>\n",
       "    </tr>\n",
       "    <tr>\n",
       "      <th>5</th>\n",
       "      <td>100-44-7</td>\n",
       "      <td>7503</td>\n",
       "      <td>7503</td>\n",
       "      <td>chloromethylbenzene</td>\n",
       "      <td>KCXMKQUNVWSEMD-UHFFFAOYSA-N</td>\n",
       "      <td>C7H7Cl</td>\n",
       "      <td>Benzyl chloride</td>\n",
       "    </tr>\n",
       "  </tbody>\n",
       "</table>\n",
       "</div>"
      ],
      "text/plain": [
       "      CASRN  CID_ixs   CID                IUPACName  \\\n",
       "0  100-00-5     7474  7474  1-chloro-4-nitrobenzene   \n",
       "2  100-25-4     7492  7492       1,4-dinitrobenzene   \n",
       "3  100-40-3     7499  7499     4-ethenylcyclohexene   \n",
       "4  100-41-4     7500  7500             ethylbenzene   \n",
       "5  100-44-7     7503  7503      chloromethylbenzene   \n",
       "\n",
       "                      InChIKey MolecularFormula                  p65name  \n",
       "0  CZGCEKJOLUNIFY-UHFFFAOYSA-N        C6H4ClNO2  1-Chloro-4-nitrobenzene  \n",
       "2  FYFDQJRXFWGIBS-UHFFFAOYSA-N         C6H4N2O4         p-Dinitrobenzene  \n",
       "3  BBDKZWKEPDTENS-UHFFFAOYSA-N            C8H12       4-Vinylcyclohexene  \n",
       "4  YNQLUTRBYVCPMQ-UHFFFAOYSA-N            C8H10             Ethylbenzene  \n",
       "5  KCXMKQUNVWSEMD-UHFFFAOYSA-N           C7H7Cl          Benzyl chloride  "
      ]
     },
     "execution_count": 14,
     "metadata": {},
     "output_type": "execute_result"
    }
   ],
   "source": [
    "merged_filtered = merged[merged.CID_ixs == merged.CID]\n",
    "print(len(merged_filtered))\n",
    "merged_filtered.head()"
   ]
  },
  {
   "cell_type": "markdown",
   "metadata": {},
   "source": [
    "How many of the CASRNs from the original Prop 65 list are here? There were 715 originally. And what about the degree of one-to-many-ness?..."
   ]
  },
  {
   "cell_type": "code",
   "execution_count": 18,
   "metadata": {
    "collapsed": false
   },
   "outputs": [
    {
     "data": {
      "text/plain": [
       "count    694.000000\n",
       "mean       1.402017\n",
       "std        1.286424\n",
       "min        1.000000\n",
       "25%        1.000000\n",
       "50%        1.000000\n",
       "75%        1.000000\n",
       "max       13.000000\n",
       "dtype: float64"
      ]
     },
     "execution_count": 18,
     "metadata": {},
     "output_type": "execute_result"
    }
   ],
   "source": [
    "merged_filtered[['CASRN', 'CID']].groupby('CASRN').apply(len).describe()"
   ]
  },
  {
   "cell_type": "markdown",
   "metadata": {},
   "source": [
    "Looks similar to the IXS dataset by itself.\n",
    "\n",
    "We can use this set as the basis for further attempts at refining the ID alignments..."
   ]
  },
  {
   "cell_type": "code",
   "execution_count": 19,
   "metadata": {
    "collapsed": false
   },
   "outputs": [],
   "source": [
    "merged_filtered.to_csv('../results/p65_CASRN_CIDmatches.csv')"
   ]
  },
  {
   "cell_type": "markdown",
   "metadata": {},
   "source": [
    "## To do\n",
    "\n",
    "From this point, there isn't a whole lot else that I could do with data alone, that would give me high confidence in the alignments. \n",
    "* I could use CIR to convert `p65name` to an InChIKey, and then check for equivalence with the InChIKey from PubChem. Supposedly CIR uses [OPSIN](http://opsin.ch.cam.ac.uk/) to parse chemical names.\n",
    "\n",
    "To get further beyond this, into the realm of accuracy, what I think is needed is a graphical tool for going through the alignments one by one and checking them. It would be tedious but definitely more certain."
   ]
  }
 ],
 "metadata": {
  "kernelspec": {
   "display_name": "Python 3",
   "language": "python",
   "name": "python3"
  },
  "language_info": {
   "codemirror_mode": {
    "name": "ipython",
    "version": 3
   },
   "file_extension": ".py",
   "mimetype": "text/x-python",
   "name": "python",
   "nbconvert_exporter": "python",
   "pygments_lexer": "ipython3",
   "version": "3.4.3"
  }
 },
 "nbformat": 4,
 "nbformat_minor": 0
}
